{
 "cells": [
  {
   "cell_type": "markdown",
   "id": "7b2d1d15",
   "metadata": {
    "papermill": {
     "duration": 0.013632,
     "end_time": "2023-03-11T09:21:59.039590",
     "exception": false,
     "start_time": "2023-03-11T09:21:59.025958",
     "status": "completed"
    },
    "tags": []
   },
   "source": [
    "\n",
    "#  Houses Price in Cairo 2023\n",
    "\n",
    "## Table of Contents\n",
    "<ul>\n",
    "<li><a href=\"#intro\">Introduction</a></li>\n",
    "<li><a href=\"#wrangling\">Data Wrangling</a></li>\n",
    "<li><a href=\"#eda\">Exploratory Data Analysis</a></li>\n",
    "<li><a href=\"#conclusions\">Conclusions</a></li>\n",
    "</ul>"
   ]
  },
  {
   "cell_type": "markdown",
   "id": "9323cdc2",
   "metadata": {
    "papermill": {
     "duration": 0.011506,
     "end_time": "2023-03-11T09:21:59.063055",
     "exception": false,
     "start_time": "2023-03-11T09:21:59.051549",
     "status": "completed"
    },
    "tags": []
   },
   "source": [
    "<a id='intro'></a>\n",
    "## Introduction\n",
    "\n",
    "\n",
    "### Question(s) for Analysis\n",
    "**1)what is the most frequent city in the data?**\n",
    "\n",
    "**2)What is the average house price in each city?**\n",
    "\n",
    "**3)What is the average house space in each city?**\n",
    "\n",
    "**4)what is the relationship between space and price?**\n",
    "\n",
    "**5)In which city is there the lowest AVG price per sqm and in which city is the highest AVG price per sqm?**\n",
    "\n",
    "**6)What is the percentage of houses in which the price per SQM is less than the average price per SQM in the same city?**\n",
    "\n",
    "**7)What is the chepeast price per SQM house?**\n"
   ]
  },
  {
   "cell_type": "code",
   "execution_count": 1,
   "id": "81bb38ea",
   "metadata": {
    "execution": {
     "iopub.execute_input": "2023-03-11T09:21:59.090232Z",
     "iopub.status.busy": "2023-03-11T09:21:59.089770Z",
     "iopub.status.idle": "2023-03-11T09:21:59.103303Z",
     "shell.execute_reply": "2023-03-11T09:21:59.102168Z"
    },
    "papermill": {
     "duration": 0.029524,
     "end_time": "2023-03-11T09:21:59.106031",
     "exception": false,
     "start_time": "2023-03-11T09:21:59.076507",
     "status": "completed"
    },
    "tags": []
   },
   "outputs": [],
   "source": [
    "import pandas as pd\n",
    "import numpy as np\n",
    "import matplotlib.pyplot as plt\n",
    "%matplotlib inline"
   ]
  },
  {
   "cell_type": "code",
   "execution_count": 2,
   "id": "686880b5",
   "metadata": {
    "execution": {
     "iopub.execute_input": "2023-03-11T09:21:59.131528Z",
     "iopub.status.busy": "2023-03-11T09:21:59.131110Z",
     "iopub.status.idle": "2023-03-11T09:21:59.151977Z",
     "shell.execute_reply": "2023-03-11T09:21:59.150703Z"
    },
    "papermill": {
     "duration": 0.036887,
     "end_time": "2023-03-11T09:21:59.154719",
     "exception": false,
     "start_time": "2023-03-11T09:21:59.117832",
     "status": "completed"
    },
    "tags": []
   },
   "outputs": [],
   "source": [
    "data = pd.read_csv('/kaggle/input/houses-price-in-cairo-new-2023/Houses-Price-cairo-Egypt.csv')"
   ]
  },
  {
   "cell_type": "code",
   "execution_count": 3,
   "id": "2028a683",
   "metadata": {
    "execution": {
     "iopub.execute_input": "2023-03-11T09:21:59.180719Z",
     "iopub.status.busy": "2023-03-11T09:21:59.180261Z",
     "iopub.status.idle": "2023-03-11T09:21:59.211883Z",
     "shell.execute_reply": "2023-03-11T09:21:59.210501Z"
    },
    "papermill": {
     "duration": 0.047826,
     "end_time": "2023-03-11T09:21:59.214550",
     "exception": false,
     "start_time": "2023-03-11T09:21:59.166724",
     "status": "completed"
    },
    "tags": []
   },
   "outputs": [
    {
     "data": {
      "text/html": [
       "<div>\n",
       "<style scoped>\n",
       "    .dataframe tbody tr th:only-of-type {\n",
       "        vertical-align: middle;\n",
       "    }\n",
       "\n",
       "    .dataframe tbody tr th {\n",
       "        vertical-align: top;\n",
       "    }\n",
       "\n",
       "    .dataframe thead th {\n",
       "        text-align: right;\n",
       "    }\n",
       "</style>\n",
       "<table border=\"1\" class=\"dataframe\">\n",
       "  <thead>\n",
       "    <tr style=\"text-align: right;\">\n",
       "      <th></th>\n",
       "      <th>Property_price_EGP</th>\n",
       "      <th>Location_governorate</th>\n",
       "      <th>Location_City</th>\n",
       "      <th>Bed_Rooms</th>\n",
       "      <th>Bath_Rooms</th>\n",
       "      <th>Home_Space_SQM</th>\n",
       "      <th>Furnished</th>\n",
       "      <th>Property_Type</th>\n",
       "      <th>Payment_Option</th>\n",
       "      <th>Delivery_Date</th>\n",
       "    </tr>\n",
       "  </thead>\n",
       "  <tbody>\n",
       "    <tr>\n",
       "      <th>0</th>\n",
       "      <td>2,700,000</td>\n",
       "      <td>Cairo</td>\n",
       "      <td>New Cairo - El Tagamoa</td>\n",
       "      <td>3</td>\n",
       "      <td>2.0</td>\n",
       "      <td>200</td>\n",
       "      <td>No</td>\n",
       "      <td>Apartment</td>\n",
       "      <td>Cash</td>\n",
       "      <td>Ready To Move</td>\n",
       "    </tr>\n",
       "    <tr>\n",
       "      <th>1</th>\n",
       "      <td>2,700,000</td>\n",
       "      <td>Cairo</td>\n",
       "      <td>Tura</td>\n",
       "      <td>2</td>\n",
       "      <td>2.0</td>\n",
       "      <td>210</td>\n",
       "      <td>No</td>\n",
       "      <td>Apartment</td>\n",
       "      <td>Cash</td>\n",
       "      <td>Ready To Move</td>\n",
       "    </tr>\n",
       "    <tr>\n",
       "      <th>2</th>\n",
       "      <td>2,100,000</td>\n",
       "      <td>Cairo</td>\n",
       "      <td>Helwan</td>\n",
       "      <td>3</td>\n",
       "      <td>2.0</td>\n",
       "      <td>200</td>\n",
       "      <td>No</td>\n",
       "      <td>Apartment</td>\n",
       "      <td>Cash</td>\n",
       "      <td>Ready To Move</td>\n",
       "    </tr>\n",
       "    <tr>\n",
       "      <th>3</th>\n",
       "      <td>16,500,000</td>\n",
       "      <td>Cairo</td>\n",
       "      <td>Maadi</td>\n",
       "      <td>4</td>\n",
       "      <td>5.0</td>\n",
       "      <td>575</td>\n",
       "      <td>No</td>\n",
       "      <td>Apartment</td>\n",
       "      <td>Cash</td>\n",
       "      <td>Ready To Move</td>\n",
       "    </tr>\n",
       "    <tr>\n",
       "      <th>4</th>\n",
       "      <td>2,750,000</td>\n",
       "      <td>Cairo</td>\n",
       "      <td>New Cairo - El Tagamoa</td>\n",
       "      <td>3</td>\n",
       "      <td>2.0</td>\n",
       "      <td>200</td>\n",
       "      <td>No</td>\n",
       "      <td>Apartment</td>\n",
       "      <td>Cash</td>\n",
       "      <td>Ready To Move</td>\n",
       "    </tr>\n",
       "  </tbody>\n",
       "</table>\n",
       "</div>"
      ],
      "text/plain": [
       "  Property_price_EGP Location_governorate           Location_City Bed_Rooms  \\\n",
       "0          2,700,000                Cairo  New Cairo - El Tagamoa         3   \n",
       "1          2,700,000                Cairo                    Tura         2   \n",
       "2          2,100,000                Cairo                  Helwan         3   \n",
       "3         16,500,000                Cairo                   Maadi         4   \n",
       "4          2,750,000                Cairo  New Cairo - El Tagamoa         3   \n",
       "\n",
       "   Bath_Rooms Home_Space_SQM Furnished Property_Type Payment_Option  \\\n",
       "0         2.0            200        No     Apartment           Cash   \n",
       "1         2.0            210        No     Apartment           Cash   \n",
       "2         2.0            200        No     Apartment           Cash   \n",
       "3         5.0            575        No     Apartment           Cash   \n",
       "4         2.0            200        No     Apartment           Cash   \n",
       "\n",
       "   Delivery_Date  \n",
       "0  Ready To Move  \n",
       "1  Ready To Move  \n",
       "2  Ready To Move  \n",
       "3  Ready To Move  \n",
       "4  Ready To Move  "
      ]
     },
     "execution_count": 3,
     "metadata": {},
     "output_type": "execute_result"
    }
   ],
   "source": [
    "data.head()"
   ]
  },
  {
   "cell_type": "markdown",
   "id": "0b2fed04",
   "metadata": {
    "papermill": {
     "duration": 0.011686,
     "end_time": "2023-03-11T09:21:59.238538",
     "exception": false,
     "start_time": "2023-03-11T09:21:59.226852",
     "status": "completed"
    },
    "tags": []
   },
   "source": [
    "<a id='wrangling'></a>\n",
    "## Data Wrangling\n",
    "\n",
    "\n",
    "\n",
    "### General Properties\n"
   ]
  },
  {
   "cell_type": "code",
   "execution_count": 4,
   "id": "27df84a0",
   "metadata": {
    "execution": {
     "iopub.execute_input": "2023-03-11T09:21:59.264435Z",
     "iopub.status.busy": "2023-03-11T09:21:59.264031Z",
     "iopub.status.idle": "2023-03-11T09:21:59.288146Z",
     "shell.execute_reply": "2023-03-11T09:21:59.286810Z"
    },
    "papermill": {
     "duration": 0.040287,
     "end_time": "2023-03-11T09:21:59.290826",
     "exception": false,
     "start_time": "2023-03-11T09:21:59.250539",
     "status": "completed"
    },
    "tags": []
   },
   "outputs": [
    {
     "name": "stdout",
     "output_type": "stream",
     "text": [
      "<class 'pandas.core.frame.DataFrame'>\n",
      "RangeIndex: 945 entries, 0 to 944\n",
      "Data columns (total 10 columns):\n",
      " #   Column                Non-Null Count  Dtype  \n",
      "---  ------                --------------  -----  \n",
      " 0   Property_price_EGP    945 non-null    object \n",
      " 1   Location_governorate  715 non-null    object \n",
      " 2   Location_City         945 non-null    object \n",
      " 3   Bed_Rooms             945 non-null    object \n",
      " 4   Bath_Rooms            715 non-null    float64\n",
      " 5   Home_Space_SQM        945 non-null    object \n",
      " 6   Furnished             945 non-null    object \n",
      " 7   Property_Type         945 non-null    object \n",
      " 8   Payment_Option        945 non-null    object \n",
      " 9   Delivery_Date         945 non-null    object \n",
      "dtypes: float64(1), object(9)\n",
      "memory usage: 74.0+ KB\n"
     ]
    }
   ],
   "source": [
    "data.info()"
   ]
  },
  {
   "cell_type": "code",
   "execution_count": 5,
   "id": "22f37101",
   "metadata": {
    "execution": {
     "iopub.execute_input": "2023-03-11T09:21:59.317713Z",
     "iopub.status.busy": "2023-03-11T09:21:59.316936Z",
     "iopub.status.idle": "2023-03-11T09:21:59.323991Z",
     "shell.execute_reply": "2023-03-11T09:21:59.322849Z"
    },
    "papermill": {
     "duration": 0.02349,
     "end_time": "2023-03-11T09:21:59.326495",
     "exception": false,
     "start_time": "2023-03-11T09:21:59.303005",
     "status": "completed"
    },
    "tags": []
   },
   "outputs": [
    {
     "data": {
      "text/plain": [
       "array(['Cairo', nan], dtype=object)"
      ]
     },
     "execution_count": 5,
     "metadata": {},
     "output_type": "execute_result"
    }
   ],
   "source": [
    "data.Location_governorate.unique()"
   ]
  },
  {
   "cell_type": "code",
   "execution_count": 6,
   "id": "6150341e",
   "metadata": {
    "execution": {
     "iopub.execute_input": "2023-03-11T09:21:59.353041Z",
     "iopub.status.busy": "2023-03-11T09:21:59.352584Z",
     "iopub.status.idle": "2023-03-11T09:21:59.361366Z",
     "shell.execute_reply": "2023-03-11T09:21:59.360184Z"
    },
    "papermill": {
     "duration": 0.024887,
     "end_time": "2023-03-11T09:21:59.363811",
     "exception": false,
     "start_time": "2023-03-11T09:21:59.338924",
     "status": "completed"
    },
    "tags": []
   },
   "outputs": [
    {
     "data": {
      "text/plain": [
       "array(['New Cairo - El Tagamoa', 'Tura', 'Helwan', 'Maadi', 'Rehab City',\n",
       "       'Madinaty', '153 SQM', '220 SQM', '190 SQM', 'Shorouk City',\n",
       "       'Heliopolis', 'Nasr City', '140 SQM', '70 SQM', '100 SQM',\n",
       "       '157 SQM', '130 SQM', '125 SQM', '55 SQM', '159 SQM', 'Shubra',\n",
       "       '120 SQM', '110 SQM', 'Mokattam', '74 SQM', '350 SQM',\n",
       "       'Zahraa Al Maadi', '96 SQM', '138 SQM', 'New Capital City',\n",
       "       '209 SQM', '170 SQM', '200 SQM', 'Sheraton', 'Obour City',\n",
       "       '113 SQM', 'Badr City', '112.5 SQM', 'Downtown Cairo', '89 SQM',\n",
       "       '196 SQM', '165 SQM', '210 SQM', 'Zamalek', '171 SQM', '360 SQM',\n",
       "       '90 SQM', '82 SQM', '146 SQM', '160 SQM', '85 SQM', '123 SQM',\n",
       "       '65 SQM', '116 SQM', '420 SQM', '175 SQM', '155 SQM', '300 SQM',\n",
       "       '202 SQM', '400 SQM', '108 SQM', '180 SQM', '185 SQM', '112 SQM',\n",
       "       '147 SQM', '150 SQM', '145 SQM', 'Hadayek al-Kobba', '109 SQM',\n",
       "       '240 SQM', '221 SQM', '95 SQM', 'Katameya', '105 SQM', '211 SQM',\n",
       "       '80 SQM', 'Marg', '56 SQM', '60 SQM', '330 SQM', '197 SQM',\n",
       "       '107 SQM', '119 SQM', '215 SQM', '136 SQM', '133 SQM', '115 SQM',\n",
       "       '230 SQM', '99 SQM', '162 SQM', '149 SQM', '67 SQM', '81 SQM',\n",
       "       '260 SQM', '131 SQM', '265 SQM', '135 SQM', '156 SQM', '275 SQM',\n",
       "       '270 SQM', '183 SQM', '92 SQM', '168 SQM', 'Helmeyat El Zaytoun',\n",
       "       '128 SQM', '214 SQM', '103 SQM', '62 SQM', '77 SQM', '280 SQM',\n",
       "       '66 SQM', '139 SQM'], dtype=object)"
      ]
     },
     "execution_count": 6,
     "metadata": {},
     "output_type": "execute_result"
    }
   ],
   "source": [
    "data.Location_City.unique()"
   ]
  },
  {
   "cell_type": "code",
   "execution_count": 7,
   "id": "8c1a4f31",
   "metadata": {
    "execution": {
     "iopub.execute_input": "2023-03-11T09:21:59.390891Z",
     "iopub.status.busy": "2023-03-11T09:21:59.390468Z",
     "iopub.status.idle": "2023-03-11T09:21:59.399059Z",
     "shell.execute_reply": "2023-03-11T09:21:59.397660Z"
    },
    "papermill": {
     "duration": 0.024932,
     "end_time": "2023-03-11T09:21:59.401243",
     "exception": false,
     "start_time": "2023-03-11T09:21:59.376311",
     "status": "completed"
    },
    "tags": []
   },
   "outputs": [
    {
     "data": {
      "text/plain": [
       "array(['200', '210', '575', '230', '120', '220', '116', '78',\n",
       "       'icon/categories/area153', 'icon/categories/area220',\n",
       "       'icon/categories/area190', '145', '90', '205', '126', '169', '163',\n",
       "       '89', '183', '360', '96', '170', 'icon/categories/area140', '119',\n",
       "       'icon/categories/area70', 'icon/categories/area100',\n",
       "       'icon/categories/area157', 'icon/categories/area130',\n",
       "       'icon/categories/area125', 'icon/categories/area55', '70',\n",
       "       'icon/categories/area159', '240', '150', 'icon/categories/area120',\n",
       "       '146', '172', 'icon/categories/area110', '67', '110', '103', '133',\n",
       "       'icon/categories/area74', 'icon/categories/area350', '350',\n",
       "       'icon/categories/area96', 'icon/categories/area138', '164', '132',\n",
       "       '182', '60', '270', '260', 'icon/categories/area209', '135', '134',\n",
       "       'icon/categories/area170', '143', 'icon/categories/area200', '109',\n",
       "       '65', '144', '112', '215', 'icon/categories/area113', '105', '300',\n",
       "       'icon/categories/area112.5', 'icon/categories/area89', '130',\n",
       "       '140', '195', 'icon/categories/area196', 'icon/categories/area165',\n",
       "       'icon/categories/area210', '108', '99', '250',\n",
       "       'icon/categories/area171', '286', '225', '450',\n",
       "       'icon/categories/area360', 'icon/categories/area90',\n",
       "       'icon/categories/area82', 'icon/categories/area146', '156', '86',\n",
       "       '211', '245', 'icon/categories/area160', 'icon/categories/area85',\n",
       "       'icon/categories/area123', '175', '125', '187',\n",
       "       'icon/categories/area65', 'icon/categories/area116',\n",
       "       'icon/categories/area420', '190', '160', '165',\n",
       "       'icon/categories/area175', '82', 'icon/categories/area155', '100',\n",
       "       'icon/categories/area300', '275', 'icon/categories/area202',\n",
       "       'icon/categories/area400', '85', 'icon/categories/area108',\n",
       "       'icon/categories/area180', 'icon/categories/area185', '167',\n",
       "       'icon/categories/area112', '152', '92', 'icon/categories/area147',\n",
       "       'icon/categories/area150', 'icon/categories/area145', '207', '168',\n",
       "       'icon/categories/area109', '137', '74', '252', '340',\n",
       "       'icon/categories/area240', 'icon/categories/area221',\n",
       "       'icon/categories/area95', '199', '238', '115', '158',\n",
       "       'icon/categories/area105', '111', '166', 'icon/categories/area211',\n",
       "       '173', '128', '106', 'icon/categories/area80', '305', '80', '58',\n",
       "       'icon/categories/area56', '127', '180', '83',\n",
       "       'icon/categories/area60', '32', '315', '142', '64', '171',\n",
       "       'icon/categories/area330', 'icon/categories/area197', '325', '420',\n",
       "       'icon/categories/area107', '136', '155', 'icon/categories/area119',\n",
       "       '226', 'icon/categories/area215', 'icon/categories/area136',\n",
       "       'icon/categories/area133', '123', '88', '121',\n",
       "       'icon/categories/area115', '50', '162', '198', '157', '98', '107',\n",
       "       '91', '154', '259', 'icon/categories/area230',\n",
       "       'icon/categories/area99', '185', 'icon/categories/area162', '320',\n",
       "       'icon/categories/area149', 'icon/categories/area67',\n",
       "       'icon/categories/area81', '54', 'icon/categories/area260', '131',\n",
       "       'icon/categories/area131', 'icon/categories/area265', '75',\n",
       "       'icon/categories/area135', '148', 'icon/categories/area156', '174',\n",
       "       '415', 'icon/categories/area275', '255', '159', '178', '370',\n",
       "       '139', '59', '351', '69', '161', '330', 'icon/categories/area270',\n",
       "       'icon/categories/area183', '117', '66', '400',\n",
       "       'icon/categories/area92', 'icon/categories/area168', '208', '267',\n",
       "       '77', 'icon/categories/area128', '214', '600', '217',\n",
       "       'icon/categories/area214', 'icon/categories/area103', '186',\n",
       "       'icon/categories/area62', 'icon/categories/area77',\n",
       "       'icon/categories/area280', '311', '62', '278', '280', '95',\n",
       "       'icon/categories/area66', 'icon/categories/area139', '416', '204'],\n",
       "      dtype=object)"
      ]
     },
     "execution_count": 7,
     "metadata": {},
     "output_type": "execute_result"
    }
   ],
   "source": [
    "data.Home_Space_SQM.unique()"
   ]
  },
  {
   "cell_type": "code",
   "execution_count": 8,
   "id": "925fcd15",
   "metadata": {
    "execution": {
     "iopub.execute_input": "2023-03-11T09:21:59.428914Z",
     "iopub.status.busy": "2023-03-11T09:21:59.427903Z",
     "iopub.status.idle": "2023-03-11T09:21:59.438453Z",
     "shell.execute_reply": "2023-03-11T09:21:59.436819Z"
    },
    "papermill": {
     "duration": 0.028212,
     "end_time": "2023-03-11T09:21:59.442138",
     "exception": false,
     "start_time": "2023-03-11T09:21:59.413926",
     "status": "completed"
    },
    "tags": []
   },
   "outputs": [
    {
     "data": {
      "text/plain": [
       "array(['No'], dtype=object)"
      ]
     },
     "execution_count": 8,
     "metadata": {},
     "output_type": "execute_result"
    }
   ],
   "source": [
    "data.Furnished.unique()"
   ]
  },
  {
   "cell_type": "code",
   "execution_count": 9,
   "id": "a2bc4867",
   "metadata": {
    "execution": {
     "iopub.execute_input": "2023-03-11T09:21:59.474095Z",
     "iopub.status.busy": "2023-03-11T09:21:59.473587Z",
     "iopub.status.idle": "2023-03-11T09:21:59.483480Z",
     "shell.execute_reply": "2023-03-11T09:21:59.481681Z"
    },
    "papermill": {
     "duration": 0.027996,
     "end_time": "2023-03-11T09:21:59.486840",
     "exception": false,
     "start_time": "2023-03-11T09:21:59.458844",
     "status": "completed"
    },
    "tags": []
   },
   "outputs": [
    {
     "data": {
      "text/plain": [
       "array(['Apartment'], dtype=object)"
      ]
     },
     "execution_count": 9,
     "metadata": {},
     "output_type": "execute_result"
    }
   ],
   "source": [
    "data.Property_Type.unique()"
   ]
  },
  {
   "cell_type": "code",
   "execution_count": 10,
   "id": "f2cd5ef4",
   "metadata": {
    "execution": {
     "iopub.execute_input": "2023-03-11T09:21:59.517333Z",
     "iopub.status.busy": "2023-03-11T09:21:59.516434Z",
     "iopub.status.idle": "2023-03-11T09:21:59.526163Z",
     "shell.execute_reply": "2023-03-11T09:21:59.524824Z"
    },
    "papermill": {
     "duration": 0.027726,
     "end_time": "2023-03-11T09:21:59.529451",
     "exception": false,
     "start_time": "2023-03-11T09:21:59.501725",
     "status": "completed"
    },
    "tags": []
   },
   "outputs": [
    {
     "data": {
      "text/plain": [
       "(945, 10)"
      ]
     },
     "execution_count": 10,
     "metadata": {},
     "output_type": "execute_result"
    }
   ],
   "source": [
    "data.shape"
   ]
  },
  {
   "cell_type": "code",
   "execution_count": 11,
   "id": "41c1c103",
   "metadata": {
    "execution": {
     "iopub.execute_input": "2023-03-11T09:21:59.559310Z",
     "iopub.status.busy": "2023-03-11T09:21:59.558882Z",
     "iopub.status.idle": "2023-03-11T09:21:59.571843Z",
     "shell.execute_reply": "2023-03-11T09:21:59.570680Z"
    },
    "papermill": {
     "duration": 0.030317,
     "end_time": "2023-03-11T09:21:59.574399",
     "exception": false,
     "start_time": "2023-03-11T09:21:59.544082",
     "status": "completed"
    },
    "tags": []
   },
   "outputs": [
    {
     "data": {
      "text/plain": [
       "188"
      ]
     },
     "execution_count": 11,
     "metadata": {},
     "output_type": "execute_result"
    }
   ],
   "source": [
    "data.duplicated().sum()"
   ]
  },
  {
   "cell_type": "markdown",
   "id": "ae8f1393",
   "metadata": {
    "papermill": {
     "duration": 0.012645,
     "end_time": "2023-03-11T09:21:59.600083",
     "exception": false,
     "start_time": "2023-03-11T09:21:59.587438",
     "status": "completed"
    },
    "tags": []
   },
   "source": [
    "\n",
    "### Data Cleaning\n",
    " "
   ]
  },
  {
   "cell_type": "code",
   "execution_count": 12,
   "id": "ae788016",
   "metadata": {
    "execution": {
     "iopub.execute_input": "2023-03-11T09:21:59.628461Z",
     "iopub.status.busy": "2023-03-11T09:21:59.628012Z",
     "iopub.status.idle": "2023-03-11T09:21:59.636975Z",
     "shell.execute_reply": "2023-03-11T09:21:59.635823Z"
    },
    "papermill": {
     "duration": 0.025825,
     "end_time": "2023-03-11T09:21:59.639324",
     "exception": false,
     "start_time": "2023-03-11T09:21:59.613499",
     "status": "completed"
    },
    "tags": []
   },
   "outputs": [],
   "source": [
    "data.dropna(inplace=True)"
   ]
  },
  {
   "cell_type": "code",
   "execution_count": 13,
   "id": "0a44c136",
   "metadata": {
    "execution": {
     "iopub.execute_input": "2023-03-11T09:21:59.668553Z",
     "iopub.status.busy": "2023-03-11T09:21:59.667659Z",
     "iopub.status.idle": "2023-03-11T09:21:59.674328Z",
     "shell.execute_reply": "2023-03-11T09:21:59.673343Z"
    },
    "papermill": {
     "duration": 0.024005,
     "end_time": "2023-03-11T09:21:59.677137",
     "exception": false,
     "start_time": "2023-03-11T09:21:59.653132",
     "status": "completed"
    },
    "tags": []
   },
   "outputs": [],
   "source": [
    "data.drop(labels=['Furnished','Property_Type','Payment_Option','Delivery_Date'],axis=1,inplace=True)"
   ]
  },
  {
   "cell_type": "code",
   "execution_count": 14,
   "id": "c33f0a12",
   "metadata": {
    "execution": {
     "iopub.execute_input": "2023-03-11T09:21:59.705452Z",
     "iopub.status.busy": "2023-03-11T09:21:59.705058Z",
     "iopub.status.idle": "2023-03-11T09:21:59.712323Z",
     "shell.execute_reply": "2023-03-11T09:21:59.711381Z"
    },
    "papermill": {
     "duration": 0.02421,
     "end_time": "2023-03-11T09:21:59.714754",
     "exception": false,
     "start_time": "2023-03-11T09:21:59.690544",
     "status": "completed"
    },
    "tags": []
   },
   "outputs": [],
   "source": [
    "data.drop_duplicates(inplace=True)"
   ]
  },
  {
   "cell_type": "code",
   "execution_count": 15,
   "id": "472ff0bc",
   "metadata": {
    "execution": {
     "iopub.execute_input": "2023-03-11T09:21:59.743382Z",
     "iopub.status.busy": "2023-03-11T09:21:59.743005Z",
     "iopub.status.idle": "2023-03-11T09:21:59.756788Z",
     "shell.execute_reply": "2023-03-11T09:21:59.755411Z"
    },
    "papermill": {
     "duration": 0.030846,
     "end_time": "2023-03-11T09:21:59.759244",
     "exception": false,
     "start_time": "2023-03-11T09:21:59.728398",
     "status": "completed"
    },
    "tags": []
   },
   "outputs": [
    {
     "data": {
      "text/html": [
       "<div>\n",
       "<style scoped>\n",
       "    .dataframe tbody tr th:only-of-type {\n",
       "        vertical-align: middle;\n",
       "    }\n",
       "\n",
       "    .dataframe tbody tr th {\n",
       "        vertical-align: top;\n",
       "    }\n",
       "\n",
       "    .dataframe thead th {\n",
       "        text-align: right;\n",
       "    }\n",
       "</style>\n",
       "<table border=\"1\" class=\"dataframe\">\n",
       "  <thead>\n",
       "    <tr style=\"text-align: right;\">\n",
       "      <th></th>\n",
       "      <th>Property_price_EGP</th>\n",
       "      <th>Location_governorate</th>\n",
       "      <th>Location_City</th>\n",
       "      <th>Bed_Rooms</th>\n",
       "      <th>Bath_Rooms</th>\n",
       "      <th>Home_Space_SQM</th>\n",
       "    </tr>\n",
       "  </thead>\n",
       "  <tbody>\n",
       "    <tr>\n",
       "      <th>0</th>\n",
       "      <td>2,700,000</td>\n",
       "      <td>Cairo</td>\n",
       "      <td>New Cairo - El Tagamoa</td>\n",
       "      <td>3</td>\n",
       "      <td>2.0</td>\n",
       "      <td>200</td>\n",
       "    </tr>\n",
       "    <tr>\n",
       "      <th>1</th>\n",
       "      <td>2,700,000</td>\n",
       "      <td>Cairo</td>\n",
       "      <td>Tura</td>\n",
       "      <td>2</td>\n",
       "      <td>2.0</td>\n",
       "      <td>210</td>\n",
       "    </tr>\n",
       "    <tr>\n",
       "      <th>2</th>\n",
       "      <td>2,100,000</td>\n",
       "      <td>Cairo</td>\n",
       "      <td>Helwan</td>\n",
       "      <td>3</td>\n",
       "      <td>2.0</td>\n",
       "      <td>200</td>\n",
       "    </tr>\n",
       "    <tr>\n",
       "      <th>3</th>\n",
       "      <td>16,500,000</td>\n",
       "      <td>Cairo</td>\n",
       "      <td>Maadi</td>\n",
       "      <td>4</td>\n",
       "      <td>5.0</td>\n",
       "      <td>575</td>\n",
       "    </tr>\n",
       "    <tr>\n",
       "      <th>4</th>\n",
       "      <td>2,750,000</td>\n",
       "      <td>Cairo</td>\n",
       "      <td>New Cairo - El Tagamoa</td>\n",
       "      <td>3</td>\n",
       "      <td>2.0</td>\n",
       "      <td>200</td>\n",
       "    </tr>\n",
       "  </tbody>\n",
       "</table>\n",
       "</div>"
      ],
      "text/plain": [
       "  Property_price_EGP Location_governorate           Location_City Bed_Rooms  \\\n",
       "0          2,700,000                Cairo  New Cairo - El Tagamoa         3   \n",
       "1          2,700,000                Cairo                    Tura         2   \n",
       "2          2,100,000                Cairo                  Helwan         3   \n",
       "3         16,500,000                Cairo                   Maadi         4   \n",
       "4          2,750,000                Cairo  New Cairo - El Tagamoa         3   \n",
       "\n",
       "   Bath_Rooms Home_Space_SQM  \n",
       "0         2.0            200  \n",
       "1         2.0            210  \n",
       "2         2.0            200  \n",
       "3         5.0            575  \n",
       "4         2.0            200  "
      ]
     },
     "execution_count": 15,
     "metadata": {},
     "output_type": "execute_result"
    }
   ],
   "source": [
    "data.head()"
   ]
  },
  {
   "cell_type": "code",
   "execution_count": 16,
   "id": "a1d466e5",
   "metadata": {
    "execution": {
     "iopub.execute_input": "2023-03-11T09:21:59.788849Z",
     "iopub.status.busy": "2023-03-11T09:21:59.788352Z",
     "iopub.status.idle": "2023-03-11T09:21:59.793991Z",
     "shell.execute_reply": "2023-03-11T09:21:59.792699Z"
    },
    "papermill": {
     "duration": 0.023515,
     "end_time": "2023-03-11T09:21:59.796540",
     "exception": false,
     "start_time": "2023-03-11T09:21:59.773025",
     "status": "completed"
    },
    "tags": []
   },
   "outputs": [],
   "source": [
    "data.reset_index(drop=True,inplace=True)"
   ]
  },
  {
   "cell_type": "code",
   "execution_count": 17,
   "id": "fcd0c97e",
   "metadata": {
    "execution": {
     "iopub.execute_input": "2023-03-11T09:21:59.825681Z",
     "iopub.status.busy": "2023-03-11T09:21:59.824562Z",
     "iopub.status.idle": "2023-03-11T09:21:59.831538Z",
     "shell.execute_reply": "2023-03-11T09:21:59.830608Z"
    },
    "papermill": {
     "duration": 0.024317,
     "end_time": "2023-03-11T09:21:59.834226",
     "exception": false,
     "start_time": "2023-03-11T09:21:59.809909",
     "status": "completed"
    },
    "tags": []
   },
   "outputs": [
    {
     "data": {
      "text/plain": [
       "(558, 6)"
      ]
     },
     "execution_count": 17,
     "metadata": {},
     "output_type": "execute_result"
    }
   ],
   "source": [
    "data.shape"
   ]
  },
  {
   "cell_type": "code",
   "execution_count": 18,
   "id": "4041a69e",
   "metadata": {
    "execution": {
     "iopub.execute_input": "2023-03-11T09:21:59.863813Z",
     "iopub.status.busy": "2023-03-11T09:21:59.863388Z",
     "iopub.status.idle": "2023-03-11T09:21:59.871332Z",
     "shell.execute_reply": "2023-03-11T09:21:59.870100Z"
    },
    "papermill": {
     "duration": 0.025648,
     "end_time": "2023-03-11T09:21:59.873872",
     "exception": false,
     "start_time": "2023-03-11T09:21:59.848224",
     "status": "completed"
    },
    "tags": []
   },
   "outputs": [],
   "source": [
    "data.Bed_Rooms = data.Bed_Rooms.astype(int)\n",
    "data.Bath_Rooms = data.Bath_Rooms.astype(int)\n",
    "data.Home_Space_SQM = data.Home_Space_SQM.astype(int)"
   ]
  },
  {
   "cell_type": "code",
   "execution_count": 19,
   "id": "80a8a7b7",
   "metadata": {
    "execution": {
     "iopub.execute_input": "2023-03-11T09:21:59.903374Z",
     "iopub.status.busy": "2023-03-11T09:21:59.902493Z",
     "iopub.status.idle": "2023-03-11T09:21:59.911288Z",
     "shell.execute_reply": "2023-03-11T09:21:59.909823Z"
    },
    "papermill": {
     "duration": 0.026703,
     "end_time": "2023-03-11T09:21:59.913895",
     "exception": false,
     "start_time": "2023-03-11T09:21:59.887192",
     "status": "completed"
    },
    "tags": []
   },
   "outputs": [],
   "source": [
    "data.Property_price_EGP = data.Property_price_EGP.replace('[\\,]', '', regex=True).astype(float)\n"
   ]
  },
  {
   "cell_type": "code",
   "execution_count": 20,
   "id": "5717c1fd",
   "metadata": {
    "execution": {
     "iopub.execute_input": "2023-03-11T09:21:59.942901Z",
     "iopub.status.busy": "2023-03-11T09:21:59.942453Z",
     "iopub.status.idle": "2023-03-11T09:21:59.956399Z",
     "shell.execute_reply": "2023-03-11T09:21:59.955099Z"
    },
    "papermill": {
     "duration": 0.031611,
     "end_time": "2023-03-11T09:21:59.958960",
     "exception": false,
     "start_time": "2023-03-11T09:21:59.927349",
     "status": "completed"
    },
    "tags": []
   },
   "outputs": [
    {
     "data": {
      "text/html": [
       "<div>\n",
       "<style scoped>\n",
       "    .dataframe tbody tr th:only-of-type {\n",
       "        vertical-align: middle;\n",
       "    }\n",
       "\n",
       "    .dataframe tbody tr th {\n",
       "        vertical-align: top;\n",
       "    }\n",
       "\n",
       "    .dataframe thead th {\n",
       "        text-align: right;\n",
       "    }\n",
       "</style>\n",
       "<table border=\"1\" class=\"dataframe\">\n",
       "  <thead>\n",
       "    <tr style=\"text-align: right;\">\n",
       "      <th></th>\n",
       "      <th>Property_price_EGP</th>\n",
       "      <th>Location_governorate</th>\n",
       "      <th>Location_City</th>\n",
       "      <th>Bed_Rooms</th>\n",
       "      <th>Bath_Rooms</th>\n",
       "      <th>Home_Space_SQM</th>\n",
       "    </tr>\n",
       "  </thead>\n",
       "  <tbody>\n",
       "    <tr>\n",
       "      <th>0</th>\n",
       "      <td>2700000.0</td>\n",
       "      <td>Cairo</td>\n",
       "      <td>New Cairo - El Tagamoa</td>\n",
       "      <td>3</td>\n",
       "      <td>2</td>\n",
       "      <td>200</td>\n",
       "    </tr>\n",
       "    <tr>\n",
       "      <th>1</th>\n",
       "      <td>2700000.0</td>\n",
       "      <td>Cairo</td>\n",
       "      <td>Tura</td>\n",
       "      <td>2</td>\n",
       "      <td>2</td>\n",
       "      <td>210</td>\n",
       "    </tr>\n",
       "    <tr>\n",
       "      <th>2</th>\n",
       "      <td>2100000.0</td>\n",
       "      <td>Cairo</td>\n",
       "      <td>Helwan</td>\n",
       "      <td>3</td>\n",
       "      <td>2</td>\n",
       "      <td>200</td>\n",
       "    </tr>\n",
       "    <tr>\n",
       "      <th>3</th>\n",
       "      <td>16500000.0</td>\n",
       "      <td>Cairo</td>\n",
       "      <td>Maadi</td>\n",
       "      <td>4</td>\n",
       "      <td>5</td>\n",
       "      <td>575</td>\n",
       "    </tr>\n",
       "    <tr>\n",
       "      <th>4</th>\n",
       "      <td>2750000.0</td>\n",
       "      <td>Cairo</td>\n",
       "      <td>New Cairo - El Tagamoa</td>\n",
       "      <td>3</td>\n",
       "      <td>2</td>\n",
       "      <td>200</td>\n",
       "    </tr>\n",
       "  </tbody>\n",
       "</table>\n",
       "</div>"
      ],
      "text/plain": [
       "   Property_price_EGP Location_governorate           Location_City  Bed_Rooms  \\\n",
       "0           2700000.0                Cairo  New Cairo - El Tagamoa          3   \n",
       "1           2700000.0                Cairo                    Tura          2   \n",
       "2           2100000.0                Cairo                  Helwan          3   \n",
       "3          16500000.0                Cairo                   Maadi          4   \n",
       "4           2750000.0                Cairo  New Cairo - El Tagamoa          3   \n",
       "\n",
       "   Bath_Rooms  Home_Space_SQM  \n",
       "0           2             200  \n",
       "1           2             210  \n",
       "2           2             200  \n",
       "3           5             575  \n",
       "4           2             200  "
      ]
     },
     "execution_count": 20,
     "metadata": {},
     "output_type": "execute_result"
    }
   ],
   "source": [
    "data.head()"
   ]
  },
  {
   "cell_type": "code",
   "execution_count": 21,
   "id": "64e67ecb",
   "metadata": {
    "execution": {
     "iopub.execute_input": "2023-03-11T09:21:59.988501Z",
     "iopub.status.busy": "2023-03-11T09:21:59.988105Z",
     "iopub.status.idle": "2023-03-11T09:22:00.001338Z",
     "shell.execute_reply": "2023-03-11T09:22:00.000048Z"
    },
    "papermill": {
     "duration": 0.030899,
     "end_time": "2023-03-11T09:22:00.003804",
     "exception": false,
     "start_time": "2023-03-11T09:21:59.972905",
     "status": "completed"
    },
    "tags": []
   },
   "outputs": [
    {
     "name": "stdout",
     "output_type": "stream",
     "text": [
      "<class 'pandas.core.frame.DataFrame'>\n",
      "RangeIndex: 558 entries, 0 to 557\n",
      "Data columns (total 6 columns):\n",
      " #   Column                Non-Null Count  Dtype  \n",
      "---  ------                --------------  -----  \n",
      " 0   Property_price_EGP    558 non-null    float64\n",
      " 1   Location_governorate  558 non-null    object \n",
      " 2   Location_City         558 non-null    object \n",
      " 3   Bed_Rooms             558 non-null    int64  \n",
      " 4   Bath_Rooms            558 non-null    int64  \n",
      " 5   Home_Space_SQM        558 non-null    int64  \n",
      "dtypes: float64(1), int64(3), object(2)\n",
      "memory usage: 26.3+ KB\n"
     ]
    }
   ],
   "source": [
    "data.info()"
   ]
  },
  {
   "cell_type": "code",
   "execution_count": 22,
   "id": "157773ae",
   "metadata": {
    "execution": {
     "iopub.execute_input": "2023-03-11T09:22:00.033662Z",
     "iopub.status.busy": "2023-03-11T09:22:00.033220Z",
     "iopub.status.idle": "2023-03-11T09:22:00.061976Z",
     "shell.execute_reply": "2023-03-11T09:22:00.060700Z"
    },
    "papermill": {
     "duration": 0.046512,
     "end_time": "2023-03-11T09:22:00.064605",
     "exception": false,
     "start_time": "2023-03-11T09:22:00.018093",
     "status": "completed"
    },
    "tags": []
   },
   "outputs": [
    {
     "data": {
      "text/html": [
       "<div>\n",
       "<style scoped>\n",
       "    .dataframe tbody tr th:only-of-type {\n",
       "        vertical-align: middle;\n",
       "    }\n",
       "\n",
       "    .dataframe tbody tr th {\n",
       "        vertical-align: top;\n",
       "    }\n",
       "\n",
       "    .dataframe thead th {\n",
       "        text-align: right;\n",
       "    }\n",
       "</style>\n",
       "<table border=\"1\" class=\"dataframe\">\n",
       "  <thead>\n",
       "    <tr style=\"text-align: right;\">\n",
       "      <th></th>\n",
       "      <th>Property_price_EGP</th>\n",
       "      <th>Bed_Rooms</th>\n",
       "      <th>Bath_Rooms</th>\n",
       "      <th>Home_Space_SQM</th>\n",
       "    </tr>\n",
       "  </thead>\n",
       "  <tbody>\n",
       "    <tr>\n",
       "      <th>count</th>\n",
       "      <td>5.580000e+02</td>\n",
       "      <td>558.000000</td>\n",
       "      <td>558.000000</td>\n",
       "      <td>558.000000</td>\n",
       "    </tr>\n",
       "    <tr>\n",
       "      <th>mean</th>\n",
       "      <td>3.161667e+06</td>\n",
       "      <td>2.616487</td>\n",
       "      <td>2.034050</td>\n",
       "      <td>159.308244</td>\n",
       "    </tr>\n",
       "    <tr>\n",
       "      <th>std</th>\n",
       "      <td>1.996281e+06</td>\n",
       "      <td>0.810532</td>\n",
       "      <td>0.834999</td>\n",
       "      <td>78.227939</td>\n",
       "    </tr>\n",
       "    <tr>\n",
       "      <th>min</th>\n",
       "      <td>1.500000e+05</td>\n",
       "      <td>1.000000</td>\n",
       "      <td>1.000000</td>\n",
       "      <td>32.000000</td>\n",
       "    </tr>\n",
       "    <tr>\n",
       "      <th>25%</th>\n",
       "      <td>1.900000e+06</td>\n",
       "      <td>2.000000</td>\n",
       "      <td>1.000000</td>\n",
       "      <td>99.000000</td>\n",
       "    </tr>\n",
       "    <tr>\n",
       "      <th>50%</th>\n",
       "      <td>2.600000e+06</td>\n",
       "      <td>3.000000</td>\n",
       "      <td>2.000000</td>\n",
       "      <td>145.000000</td>\n",
       "    </tr>\n",
       "    <tr>\n",
       "      <th>75%</th>\n",
       "      <td>3.949250e+06</td>\n",
       "      <td>3.000000</td>\n",
       "      <td>3.000000</td>\n",
       "      <td>200.000000</td>\n",
       "    </tr>\n",
       "    <tr>\n",
       "      <th>max</th>\n",
       "      <td>1.650000e+07</td>\n",
       "      <td>6.000000</td>\n",
       "      <td>5.000000</td>\n",
       "      <td>600.000000</td>\n",
       "    </tr>\n",
       "  </tbody>\n",
       "</table>\n",
       "</div>"
      ],
      "text/plain": [
       "       Property_price_EGP   Bed_Rooms  Bath_Rooms  Home_Space_SQM\n",
       "count        5.580000e+02  558.000000  558.000000      558.000000\n",
       "mean         3.161667e+06    2.616487    2.034050      159.308244\n",
       "std          1.996281e+06    0.810532    0.834999       78.227939\n",
       "min          1.500000e+05    1.000000    1.000000       32.000000\n",
       "25%          1.900000e+06    2.000000    1.000000       99.000000\n",
       "50%          2.600000e+06    3.000000    2.000000      145.000000\n",
       "75%          3.949250e+06    3.000000    3.000000      200.000000\n",
       "max          1.650000e+07    6.000000    5.000000      600.000000"
      ]
     },
     "execution_count": 22,
     "metadata": {},
     "output_type": "execute_result"
    }
   ],
   "source": [
    "data.describe()"
   ]
  },
  {
   "cell_type": "markdown",
   "id": "46649b54",
   "metadata": {
    "papermill": {
     "duration": 0.013647,
     "end_time": "2023-03-11T09:22:00.092289",
     "exception": false,
     "start_time": "2023-03-11T09:22:00.078642",
     "status": "completed"
    },
    "tags": []
   },
   "source": [
    "<a id='eda'></a>\n",
    "## Exploratory Data Analysis\n",
    "\n",
    "\n",
    "\n",
    "### Research Question 1 (what is the most frequent city in the data?)"
   ]
  },
  {
   "cell_type": "code",
   "execution_count": 23,
   "id": "fee1851f",
   "metadata": {
    "execution": {
     "iopub.execute_input": "2023-03-11T09:22:00.122069Z",
     "iopub.status.busy": "2023-03-11T09:22:00.121660Z",
     "iopub.status.idle": "2023-03-11T09:22:00.563409Z",
     "shell.execute_reply": "2023-03-11T09:22:00.562082Z"
    },
    "papermill": {
     "duration": 0.45999,
     "end_time": "2023-03-11T09:22:00.566171",
     "exception": false,
     "start_time": "2023-03-11T09:22:00.106181",
     "status": "completed"
    },
    "tags": []
   },
   "outputs": [
    {
     "data": {
      "image/png": "[encoded data removed]",
      "text/plain": [
       "<Figure size 800x500 with 1 Axes>"
      ]
     },
     "metadata": {},
     "output_type": "display_data"
    }
   ],
   "source": [
    "data.Location_City.value_counts().plot(kind='bar',color='orange',figsize=(8,5))\n",
    "plt.xlabel('City')\n",
    "plt.ylabel('Frequecy');\n"
   ]
  },
  {
   "cell_type": "markdown",
   "id": "e540708e",
   "metadata": {
    "papermill": {
     "duration": 0.014282,
     "end_time": "2023-03-11T09:22:00.595284",
     "exception": false,
     "start_time": "2023-03-11T09:22:00.581002",
     "status": "completed"
    },
    "tags": []
   },
   "source": [
    "As shown **Madinaty** is the most frequent city in the data"
   ]
  },
  {
   "cell_type": "markdown",
   "id": "cc62031a",
   "metadata": {
    "papermill": {
     "duration": 0.014298,
     "end_time": "2023-03-11T09:22:00.624214",
     "exception": false,
     "start_time": "2023-03-11T09:22:00.609916",
     "status": "completed"
    },
    "tags": []
   },
   "source": [
    "### Research Question 2  (What is the average house price in each city?)"
   ]
  },
  {
   "cell_type": "code",
   "execution_count": 24,
   "id": "a7a64201",
   "metadata": {
    "execution": {
     "iopub.execute_input": "2023-03-11T09:22:00.655155Z",
     "iopub.status.busy": "2023-03-11T09:22:00.654760Z",
     "iopub.status.idle": "2023-03-11T09:22:01.010313Z",
     "shell.execute_reply": "2023-03-11T09:22:01.009254Z"
    },
    "papermill": {
     "duration": 0.374102,
     "end_time": "2023-03-11T09:22:01.012885",
     "exception": false,
     "start_time": "2023-03-11T09:22:00.638783",
     "status": "completed"
    },
    "tags": []
   },
   "outputs": [
    {
     "data": {
      "image/png": "[encoded data removed]",
      "text/plain": [
       "<Figure size 800x500 with 1 Axes>"
      ]
     },
     "metadata": {},
     "output_type": "display_data"
    }
   ],
   "source": [
    "data.groupby('Location_City').Property_price_EGP.mean().sort_values(ascending=False).plot(kind='bar',figsize=(8,5))\n",
    "plt.xlabel('City')\n",
    "plt.ylabel('mean price in millions');\n"
   ]
  },
  {
   "cell_type": "markdown",
   "id": "27e03e6a",
   "metadata": {
    "papermill": {
     "duration": 0.015107,
     "end_time": "2023-03-11T09:22:01.043764",
     "exception": false,
     "start_time": "2023-03-11T09:22:01.028657",
     "status": "completed"
    },
    "tags": []
   },
   "source": [
    "As shown,the top five cities in terms of mean home prices are **(Zamalek, Maadi, New Cairo-EL Tagamoa, Mokattam, Heliopolis)**"
   ]
  },
  {
   "cell_type": "markdown",
   "id": "414675c0",
   "metadata": {
    "papermill": {
     "duration": 0.014996,
     "end_time": "2023-03-11T09:22:01.074111",
     "exception": false,
     "start_time": "2023-03-11T09:22:01.059115",
     "status": "completed"
    },
    "tags": []
   },
   "source": [
    "### Research Question 3 (What is the average house space in each city?)"
   ]
  },
  {
   "cell_type": "code",
   "execution_count": 25,
   "id": "d9b18c2c",
   "metadata": {
    "execution": {
     "iopub.execute_input": "2023-03-11T09:22:01.107097Z",
     "iopub.status.busy": "2023-03-11T09:22:01.106338Z",
     "iopub.status.idle": "2023-03-11T09:22:01.457461Z",
     "shell.execute_reply": "2023-03-11T09:22:01.456368Z"
    },
    "papermill": {
     "duration": 0.370471,
     "end_time": "2023-03-11T09:22:01.459999",
     "exception": false,
     "start_time": "2023-03-11T09:22:01.089528",
     "status": "completed"
    },
    "tags": []
   },
   "outputs": [
    {
     "data": {
      "image/png": "[encoded data removed]",
      "text/plain": [
       "<Figure size 800x500 with 1 Axes>"
      ]
     },
     "metadata": {},
     "output_type": "display_data"
    }
   ],
   "source": [
    "data.groupby('Location_City').Home_Space_SQM.mean().sort_values(ascending=False).plot(kind='bar',figsize=(8,5))\n",
    "plt.xlabel('City')\n",
    "plt.ylabel('home space');\n"
   ]
  },
  {
   "cell_type": "markdown",
   "id": "0cc033ea",
   "metadata": {
    "papermill": {
     "duration": 0.016208,
     "end_time": "2023-03-11T09:22:01.492624",
     "exception": false,
     "start_time": "2023-03-11T09:22:01.476416",
     "status": "completed"
    },
    "tags": []
   },
   "source": [
    "As shown,the top five cities in terms of mean home spaces are **(Maadi, Zahraa Al Maadi, Heliopolis, Obour City, Zamalek)**"
   ]
  },
  {
   "cell_type": "markdown",
   "id": "6c585263",
   "metadata": {
    "papermill": {
     "duration": 0.016464,
     "end_time": "2023-03-11T09:22:01.526568",
     "exception": false,
     "start_time": "2023-03-11T09:22:01.510104",
     "status": "completed"
    },
    "tags": []
   },
   "source": [
    "### Research Question 4 (What is the relationship between space and price?)"
   ]
  },
  {
   "cell_type": "code",
   "execution_count": 26,
   "id": "3adb6eae",
   "metadata": {
    "execution": {
     "iopub.execute_input": "2023-03-11T09:22:01.562642Z",
     "iopub.status.busy": "2023-03-11T09:22:01.561352Z",
     "iopub.status.idle": "2023-03-11T09:22:01.922101Z",
     "shell.execute_reply": "2023-03-11T09:22:01.920784Z"
    },
    "papermill": {
     "duration": 0.381497,
     "end_time": "2023-03-11T09:22:01.924897",
     "exception": false,
     "start_time": "2023-03-11T09:22:01.543400",
     "status": "completed"
    },
    "tags": []
   },
   "outputs": [
    {
     "data": {
      "image/png": "[encoded data removed]",
      "text/plain": [
       "<Figure size 640x480 with 1 Axes>"
      ]
     },
     "metadata": {},
     "output_type": "display_data"
    }
   ],
   "source": [
    "plt.scatter(x = data.Home_Space_SQM,y=data.Property_price_EGP,c='orange');\n",
    "plt.xlabel('Home Space')\n",
    "plt.ylabel('price in millions');"
   ]
  },
  {
   "cell_type": "markdown",
   "id": "20adc3bd",
   "metadata": {
    "papermill": {
     "duration": 0.017761,
     "end_time": "2023-03-11T09:22:01.960705",
     "exception": false,
     "start_time": "2023-03-11T09:22:01.942944",
     "status": "completed"
    },
    "tags": []
   },
   "source": [
    "the more the space increases the price"
   ]
  },
  {
   "cell_type": "markdown",
   "id": "f787ce15",
   "metadata": {
    "papermill": {
     "duration": 0.016555,
     "end_time": "2023-03-11T09:22:01.994064",
     "exception": false,
     "start_time": "2023-03-11T09:22:01.977509",
     "status": "completed"
    },
    "tags": []
   },
   "source": [
    "### Research Question 5 (In which city is there the lowest AVG price per sqm and in which city is the highest AVG price per sqm?)"
   ]
  },
  {
   "cell_type": "code",
   "execution_count": 27,
   "id": "0e815ef5",
   "metadata": {
    "execution": {
     "iopub.execute_input": "2023-03-11T09:22:02.030305Z",
     "iopub.status.busy": "2023-03-11T09:22:02.029079Z",
     "iopub.status.idle": "2023-03-11T09:22:02.038164Z",
     "shell.execute_reply": "2023-03-11T09:22:02.037017Z"
    },
    "papermill": {
     "duration": 0.030079,
     "end_time": "2023-03-11T09:22:02.040960",
     "exception": false,
     "start_time": "2023-03-11T09:22:02.010881",
     "status": "completed"
    },
    "tags": []
   },
   "outputs": [],
   "source": [
    "g1=data.groupby('Location_City').Home_Space_SQM.sum().to_frame()\n",
    "g2=data.groupby('Location_City').Property_price_EGP.sum().to_frame()"
   ]
  },
  {
   "cell_type": "code",
   "execution_count": 28,
   "id": "511145b5",
   "metadata": {
    "execution": {
     "iopub.execute_input": "2023-03-11T09:22:02.077534Z",
     "iopub.status.busy": "2023-03-11T09:22:02.077089Z",
     "iopub.status.idle": "2023-03-11T09:22:02.083492Z",
     "shell.execute_reply": "2023-03-11T09:22:02.081975Z"
    },
    "papermill": {
     "duration": 0.027836,
     "end_time": "2023-03-11T09:22:02.086040",
     "exception": false,
     "start_time": "2023-03-11T09:22:02.058204",
     "status": "completed"
    },
    "tags": []
   },
   "outputs": [],
   "source": [
    "res=pd.concat([g1,g2],axis=1)"
   ]
  },
  {
   "cell_type": "code",
   "execution_count": 29,
   "id": "00364dc7",
   "metadata": {
    "execution": {
     "iopub.execute_input": "2023-03-11T09:22:02.121954Z",
     "iopub.status.busy": "2023-03-11T09:22:02.121487Z",
     "iopub.status.idle": "2023-03-11T09:22:02.133302Z",
     "shell.execute_reply": "2023-03-11T09:22:02.132187Z"
    },
    "papermill": {
     "duration": 0.032425,
     "end_time": "2023-03-11T09:22:02.135607",
     "exception": false,
     "start_time": "2023-03-11T09:22:02.103182",
     "status": "completed"
    },
    "tags": []
   },
   "outputs": [
    {
     "data": {
      "text/html": [
       "<div>\n",
       "<style scoped>\n",
       "    .dataframe tbody tr th:only-of-type {\n",
       "        vertical-align: middle;\n",
       "    }\n",
       "\n",
       "    .dataframe tbody tr th {\n",
       "        vertical-align: top;\n",
       "    }\n",
       "\n",
       "    .dataframe thead th {\n",
       "        text-align: right;\n",
       "    }\n",
       "</style>\n",
       "<table border=\"1\" class=\"dataframe\">\n",
       "  <thead>\n",
       "    <tr style=\"text-align: right;\">\n",
       "      <th></th>\n",
       "      <th>Home_Space_SQM</th>\n",
       "      <th>Property_price_EGP</th>\n",
       "    </tr>\n",
       "    <tr>\n",
       "      <th>Location_City</th>\n",
       "      <th></th>\n",
       "      <th></th>\n",
       "    </tr>\n",
       "  </thead>\n",
       "  <tbody>\n",
       "    <tr>\n",
       "      <th>Badr City</th>\n",
       "      <td>1095</td>\n",
       "      <td>5698000.0</td>\n",
       "    </tr>\n",
       "    <tr>\n",
       "      <th>Downtown Cairo</th>\n",
       "      <td>300</td>\n",
       "      <td>1300000.0</td>\n",
       "    </tr>\n",
       "    <tr>\n",
       "      <th>Hadayek al-Kobba</th>\n",
       "      <td>120</td>\n",
       "      <td>850000.0</td>\n",
       "    </tr>\n",
       "    <tr>\n",
       "      <th>Heliopolis</th>\n",
       "      <td>3559</td>\n",
       "      <td>58300000.0</td>\n",
       "    </tr>\n",
       "    <tr>\n",
       "      <th>Helmeyat El Zaytoun</th>\n",
       "      <td>85</td>\n",
       "      <td>470000.0</td>\n",
       "    </tr>\n",
       "  </tbody>\n",
       "</table>\n",
       "</div>"
      ],
      "text/plain": [
       "                     Home_Space_SQM  Property_price_EGP\n",
       "Location_City                                          \n",
       "Badr City                      1095           5698000.0\n",
       "Downtown Cairo                  300           1300000.0\n",
       "Hadayek al-Kobba                120            850000.0\n",
       "Heliopolis                     3559          58300000.0\n",
       "Helmeyat El Zaytoun              85            470000.0"
      ]
     },
     "execution_count": 29,
     "metadata": {},
     "output_type": "execute_result"
    }
   ],
   "source": [
    "res.head()"
   ]
  },
  {
   "cell_type": "code",
   "execution_count": 30,
   "id": "450d7052",
   "metadata": {
    "execution": {
     "iopub.execute_input": "2023-03-11T09:22:02.172078Z",
     "iopub.status.busy": "2023-03-11T09:22:02.171646Z",
     "iopub.status.idle": "2023-03-11T09:22:02.185168Z",
     "shell.execute_reply": "2023-03-11T09:22:02.183878Z"
    },
    "papermill": {
     "duration": 0.034815,
     "end_time": "2023-03-11T09:22:02.187625",
     "exception": false,
     "start_time": "2023-03-11T09:22:02.152810",
     "status": "completed"
    },
    "tags": []
   },
   "outputs": [
    {
     "data": {
      "text/html": [
       "<div>\n",
       "<style scoped>\n",
       "    .dataframe tbody tr th:only-of-type {\n",
       "        vertical-align: middle;\n",
       "    }\n",
       "\n",
       "    .dataframe tbody tr th {\n",
       "        vertical-align: top;\n",
       "    }\n",
       "\n",
       "    .dataframe thead th {\n",
       "        text-align: right;\n",
       "    }\n",
       "</style>\n",
       "<table border=\"1\" class=\"dataframe\">\n",
       "  <thead>\n",
       "    <tr style=\"text-align: right;\">\n",
       "      <th></th>\n",
       "      <th>Home_Space_SQM</th>\n",
       "      <th>Property_price_EGP</th>\n",
       "      <th>SQM_price</th>\n",
       "    </tr>\n",
       "    <tr>\n",
       "      <th>Location_City</th>\n",
       "      <th></th>\n",
       "      <th></th>\n",
       "      <th></th>\n",
       "    </tr>\n",
       "  </thead>\n",
       "  <tbody>\n",
       "    <tr>\n",
       "      <th>Badr City</th>\n",
       "      <td>1095</td>\n",
       "      <td>5698000.0</td>\n",
       "      <td>5203.652968</td>\n",
       "    </tr>\n",
       "    <tr>\n",
       "      <th>Downtown Cairo</th>\n",
       "      <td>300</td>\n",
       "      <td>1300000.0</td>\n",
       "      <td>4333.333333</td>\n",
       "    </tr>\n",
       "    <tr>\n",
       "      <th>Hadayek al-Kobba</th>\n",
       "      <td>120</td>\n",
       "      <td>850000.0</td>\n",
       "      <td>7083.333333</td>\n",
       "    </tr>\n",
       "    <tr>\n",
       "      <th>Heliopolis</th>\n",
       "      <td>3559</td>\n",
       "      <td>58300000.0</td>\n",
       "      <td>16381.005901</td>\n",
       "    </tr>\n",
       "    <tr>\n",
       "      <th>Helmeyat El Zaytoun</th>\n",
       "      <td>85</td>\n",
       "      <td>470000.0</td>\n",
       "      <td>5529.411765</td>\n",
       "    </tr>\n",
       "  </tbody>\n",
       "</table>\n",
       "</div>"
      ],
      "text/plain": [
       "                     Home_Space_SQM  Property_price_EGP     SQM_price\n",
       "Location_City                                                        \n",
       "Badr City                      1095           5698000.0   5203.652968\n",
       "Downtown Cairo                  300           1300000.0   4333.333333\n",
       "Hadayek al-Kobba                120            850000.0   7083.333333\n",
       "Heliopolis                     3559          58300000.0  16381.005901\n",
       "Helmeyat El Zaytoun              85            470000.0   5529.411765"
      ]
     },
     "execution_count": 30,
     "metadata": {},
     "output_type": "execute_result"
    }
   ],
   "source": [
    "res['SQM_price']=res.Property_price_EGP/res.Home_Space_SQM\n",
    "res.head()"
   ]
  },
  {
   "cell_type": "code",
   "execution_count": 31,
   "id": "ec616d7c",
   "metadata": {
    "execution": {
     "iopub.execute_input": "2023-03-11T09:22:02.224089Z",
     "iopub.status.busy": "2023-03-11T09:22:02.223572Z",
     "iopub.status.idle": "2023-03-11T09:22:02.569342Z",
     "shell.execute_reply": "2023-03-11T09:22:02.567903Z"
    },
    "papermill": {
     "duration": 0.367357,
     "end_time": "2023-03-11T09:22:02.572229",
     "exception": false,
     "start_time": "2023-03-11T09:22:02.204872",
     "status": "completed"
    },
    "tags": []
   },
   "outputs": [
    {
     "data": {
      "image/png": "[encoded data removed]",
      "text/plain": [
       "<Figure size 640x480 with 1 Axes>"
      ]
     },
     "metadata": {},
     "output_type": "display_data"
    }
   ],
   "source": [
    "res['SQM_price'].sort_values(ascending=False).plot(kind='bar');"
   ]
  },
  {
   "cell_type": "markdown",
   "id": "a6946144",
   "metadata": {
    "papermill": {
     "duration": 0.017512,
     "end_time": "2023-03-11T09:22:02.607667",
     "exception": false,
     "start_time": "2023-03-11T09:22:02.590155",
     "status": "completed"
    },
    "tags": []
   },
   "source": [
    "As shown, the lowest price per SQM in the **Marg**, while the highest price per SQM in **Madinaty**"
   ]
  },
  {
   "cell_type": "markdown",
   "id": "b89b4158",
   "metadata": {
    "papermill": {
     "duration": 0.017607,
     "end_time": "2023-03-11T09:22:02.643249",
     "exception": false,
     "start_time": "2023-03-11T09:22:02.625642",
     "status": "completed"
    },
    "tags": []
   },
   "source": [
    "### Research Question 6 (What is the percentage of houses in which the price per SQM is less than the average price per SQM in the same city?)"
   ]
  },
  {
   "cell_type": "code",
   "execution_count": 32,
   "id": "035c8286",
   "metadata": {
    "execution": {
     "iopub.execute_input": "2023-03-11T09:22:02.680978Z",
     "iopub.status.busy": "2023-03-11T09:22:02.680531Z",
     "iopub.status.idle": "2023-03-11T09:22:02.686734Z",
     "shell.execute_reply": "2023-03-11T09:22:02.685479Z"
    },
    "papermill": {
     "duration": 0.028359,
     "end_time": "2023-03-11T09:22:02.689505",
     "exception": false,
     "start_time": "2023-03-11T09:22:02.661146",
     "status": "completed"
    },
    "tags": []
   },
   "outputs": [],
   "source": [
    "res.reset_index(inplace=True)"
   ]
  },
  {
   "cell_type": "code",
   "execution_count": 33,
   "id": "d9208c89",
   "metadata": {
    "execution": {
     "iopub.execute_input": "2023-03-11T09:22:02.727945Z",
     "iopub.status.busy": "2023-03-11T09:22:02.726990Z",
     "iopub.status.idle": "2023-03-11T09:22:02.743188Z",
     "shell.execute_reply": "2023-03-11T09:22:02.741931Z"
    },
    "papermill": {
     "duration": 0.038316,
     "end_time": "2023-03-11T09:22:02.745663",
     "exception": false,
     "start_time": "2023-03-11T09:22:02.707347",
     "status": "completed"
    },
    "tags": []
   },
   "outputs": [
    {
     "data": {
      "text/html": [
       "<div>\n",
       "<style scoped>\n",
       "    .dataframe tbody tr th:only-of-type {\n",
       "        vertical-align: middle;\n",
       "    }\n",
       "\n",
       "    .dataframe tbody tr th {\n",
       "        vertical-align: top;\n",
       "    }\n",
       "\n",
       "    .dataframe thead th {\n",
       "        text-align: right;\n",
       "    }\n",
       "</style>\n",
       "<table border=\"1\" class=\"dataframe\">\n",
       "  <thead>\n",
       "    <tr style=\"text-align: right;\">\n",
       "      <th></th>\n",
       "      <th>Location_City</th>\n",
       "      <th>Home_Space_SQM</th>\n",
       "      <th>Property_price_EGP</th>\n",
       "      <th>SQM_price</th>\n",
       "    </tr>\n",
       "  </thead>\n",
       "  <tbody>\n",
       "    <tr>\n",
       "      <th>0</th>\n",
       "      <td>Badr City</td>\n",
       "      <td>1095</td>\n",
       "      <td>5698000.0</td>\n",
       "      <td>5203.652968</td>\n",
       "    </tr>\n",
       "    <tr>\n",
       "      <th>1</th>\n",
       "      <td>Downtown Cairo</td>\n",
       "      <td>300</td>\n",
       "      <td>1300000.0</td>\n",
       "      <td>4333.333333</td>\n",
       "    </tr>\n",
       "    <tr>\n",
       "      <th>2</th>\n",
       "      <td>Hadayek al-Kobba</td>\n",
       "      <td>120</td>\n",
       "      <td>850000.0</td>\n",
       "      <td>7083.333333</td>\n",
       "    </tr>\n",
       "    <tr>\n",
       "      <th>3</th>\n",
       "      <td>Heliopolis</td>\n",
       "      <td>3559</td>\n",
       "      <td>58300000.0</td>\n",
       "      <td>16381.005901</td>\n",
       "    </tr>\n",
       "    <tr>\n",
       "      <th>4</th>\n",
       "      <td>Helmeyat El Zaytoun</td>\n",
       "      <td>85</td>\n",
       "      <td>470000.0</td>\n",
       "      <td>5529.411765</td>\n",
       "    </tr>\n",
       "    <tr>\n",
       "      <th>5</th>\n",
       "      <td>Helwan</td>\n",
       "      <td>200</td>\n",
       "      <td>2100000.0</td>\n",
       "      <td>10500.000000</td>\n",
       "    </tr>\n",
       "    <tr>\n",
       "      <th>6</th>\n",
       "      <td>Katameya</td>\n",
       "      <td>236</td>\n",
       "      <td>2525000.0</td>\n",
       "      <td>10699.152542</td>\n",
       "    </tr>\n",
       "    <tr>\n",
       "      <th>7</th>\n",
       "      <td>Maadi</td>\n",
       "      <td>5572</td>\n",
       "      <td>95250100.0</td>\n",
       "      <td>17094.418521</td>\n",
       "    </tr>\n",
       "    <tr>\n",
       "      <th>8</th>\n",
       "      <td>Madinaty</td>\n",
       "      <td>16922</td>\n",
       "      <td>420480000.0</td>\n",
       "      <td>24848.126699</td>\n",
       "    </tr>\n",
       "    <tr>\n",
       "      <th>9</th>\n",
       "      <td>Marg</td>\n",
       "      <td>80</td>\n",
       "      <td>150000.0</td>\n",
       "      <td>1875.000000</td>\n",
       "    </tr>\n",
       "    <tr>\n",
       "      <th>10</th>\n",
       "      <td>Mokattam</td>\n",
       "      <td>1415</td>\n",
       "      <td>34211000.0</td>\n",
       "      <td>24177.385159</td>\n",
       "    </tr>\n",
       "    <tr>\n",
       "      <th>11</th>\n",
       "      <td>Nasr City</td>\n",
       "      <td>9637</td>\n",
       "      <td>115825000.0</td>\n",
       "      <td>12018.781779</td>\n",
       "    </tr>\n",
       "    <tr>\n",
       "      <th>12</th>\n",
       "      <td>New Cairo - El Tagamoa</td>\n",
       "      <td>32648</td>\n",
       "      <td>693990552.0</td>\n",
       "      <td>21256.755452</td>\n",
       "    </tr>\n",
       "    <tr>\n",
       "      <th>13</th>\n",
       "      <td>New Capital City</td>\n",
       "      <td>259</td>\n",
       "      <td>2000653.0</td>\n",
       "      <td>7724.528958</td>\n",
       "    </tr>\n",
       "    <tr>\n",
       "      <th>14</th>\n",
       "      <td>Obour City</td>\n",
       "      <td>1733</td>\n",
       "      <td>17450000.0</td>\n",
       "      <td>10069.244085</td>\n",
       "    </tr>\n",
       "    <tr>\n",
       "      <th>15</th>\n",
       "      <td>Rehab City</td>\n",
       "      <td>9612</td>\n",
       "      <td>242320000.0</td>\n",
       "      <td>25210.153974</td>\n",
       "    </tr>\n",
       "    <tr>\n",
       "      <th>16</th>\n",
       "      <td>Sheraton</td>\n",
       "      <td>1645</td>\n",
       "      <td>19350000.0</td>\n",
       "      <td>11762.917933</td>\n",
       "    </tr>\n",
       "    <tr>\n",
       "      <th>17</th>\n",
       "      <td>Shorouk City</td>\n",
       "      <td>956</td>\n",
       "      <td>8300000.0</td>\n",
       "      <td>8682.008368</td>\n",
       "    </tr>\n",
       "    <tr>\n",
       "      <th>18</th>\n",
       "      <td>Shubra</td>\n",
       "      <td>400</td>\n",
       "      <td>2400000.0</td>\n",
       "      <td>6000.000000</td>\n",
       "    </tr>\n",
       "    <tr>\n",
       "      <th>19</th>\n",
       "      <td>Tura</td>\n",
       "      <td>210</td>\n",
       "      <td>2700000.0</td>\n",
       "      <td>12857.142857</td>\n",
       "    </tr>\n",
       "    <tr>\n",
       "      <th>20</th>\n",
       "      <td>Zahraa Al Maadi</td>\n",
       "      <td>1136</td>\n",
       "      <td>13640000.0</td>\n",
       "      <td>12007.042254</td>\n",
       "    </tr>\n",
       "    <tr>\n",
       "      <th>21</th>\n",
       "      <td>Zamalek</td>\n",
       "      <td>1074</td>\n",
       "      <td>24900000.0</td>\n",
       "      <td>23184.357542</td>\n",
       "    </tr>\n",
       "  </tbody>\n",
       "</table>\n",
       "</div>"
      ],
      "text/plain": [
       "             Location_City  Home_Space_SQM  Property_price_EGP     SQM_price\n",
       "0                Badr City            1095           5698000.0   5203.652968\n",
       "1           Downtown Cairo             300           1300000.0   4333.333333\n",
       "2         Hadayek al-Kobba             120            850000.0   7083.333333\n",
       "3               Heliopolis            3559          58300000.0  16381.005901\n",
       "4      Helmeyat El Zaytoun              85            470000.0   5529.411765\n",
       "5                   Helwan             200           2100000.0  10500.000000\n",
       "6                 Katameya             236           2525000.0  10699.152542\n",
       "7                    Maadi            5572          95250100.0  17094.418521\n",
       "8                 Madinaty           16922         420480000.0  24848.126699\n",
       "9                     Marg              80            150000.0   1875.000000\n",
       "10                Mokattam            1415          34211000.0  24177.385159\n",
       "11               Nasr City            9637         115825000.0  12018.781779\n",
       "12  New Cairo - El Tagamoa           32648         693990552.0  21256.755452\n",
       "13        New Capital City             259           2000653.0   7724.528958\n",
       "14              Obour City            1733          17450000.0  10069.244085\n",
       "15              Rehab City            9612         242320000.0  25210.153974\n",
       "16                Sheraton            1645          19350000.0  11762.917933\n",
       "17            Shorouk City             956           8300000.0   8682.008368\n",
       "18                  Shubra             400           2400000.0   6000.000000\n",
       "19                    Tura             210           2700000.0  12857.142857\n",
       "20         Zahraa Al Maadi            1136          13640000.0  12007.042254\n",
       "21                 Zamalek            1074          24900000.0  23184.357542"
      ]
     },
     "execution_count": 33,
     "metadata": {},
     "output_type": "execute_result"
    }
   ],
   "source": [
    "res"
   ]
  },
  {
   "cell_type": "code",
   "execution_count": 34,
   "id": "6606a250",
   "metadata": {
    "execution": {
     "iopub.execute_input": "2023-03-11T09:22:02.784370Z",
     "iopub.status.busy": "2023-03-11T09:22:02.783667Z",
     "iopub.status.idle": "2023-03-11T09:22:02.789641Z",
     "shell.execute_reply": "2023-03-11T09:22:02.788233Z"
    },
    "papermill": {
     "duration": 0.028153,
     "end_time": "2023-03-11T09:22:02.792059",
     "exception": false,
     "start_time": "2023-03-11T09:22:02.763906",
     "status": "completed"
    },
    "tags": []
   },
   "outputs": [],
   "source": [
    "data.reset_index(drop=True,inplace=True)"
   ]
  },
  {
   "cell_type": "code",
   "execution_count": 35,
   "id": "1517731f",
   "metadata": {
    "execution": {
     "iopub.execute_input": "2023-03-11T09:22:02.830910Z",
     "iopub.status.busy": "2023-03-11T09:22:02.829701Z",
     "iopub.status.idle": "2023-03-11T09:22:02.836419Z",
     "shell.execute_reply": "2023-03-11T09:22:02.835507Z"
    },
    "papermill": {
     "duration": 0.028325,
     "end_time": "2023-03-11T09:22:02.838586",
     "exception": false,
     "start_time": "2023-03-11T09:22:02.810261",
     "status": "completed"
    },
    "tags": []
   },
   "outputs": [
    {
     "data": {
      "text/plain": [
       "(558, 6)"
      ]
     },
     "execution_count": 35,
     "metadata": {},
     "output_type": "execute_result"
    }
   ],
   "source": [
    "data.shape"
   ]
  },
  {
   "cell_type": "code",
   "execution_count": 36,
   "id": "43579a27",
   "metadata": {
    "execution": {
     "iopub.execute_input": "2023-03-11T09:22:02.877963Z",
     "iopub.status.busy": "2023-03-11T09:22:02.877197Z",
     "iopub.status.idle": "2023-03-11T09:22:03.545659Z",
     "shell.execute_reply": "2023-03-11T09:22:03.544672Z"
    },
    "papermill": {
     "duration": 0.690982,
     "end_time": "2023-03-11T09:22:03.548304",
     "exception": false,
     "start_time": "2023-03-11T09:22:02.857322",
     "status": "completed"
    },
    "tags": []
   },
   "outputs": [
    {
     "name": "stderr",
     "output_type": "stream",
     "text": [
      "/opt/conda/lib/python3.7/site-packages/ipykernel_launcher.py:11: SettingWithCopyWarning: \n",
      "A value is trying to be set on a copy of a slice from a DataFrame\n",
      "\n",
      "See the caveats in the documentation: https://pandas.pydata.org/pandas-docs/stable/user_guide/indexing.html#returning-a-view-versus-a-copy\n",
      "  # This is added back by InteractiveShellApp.init_path()\n"
     ]
    }
   ],
   "source": [
    "unique_cities=data.Location_City.unique().tolist()\n",
    "new_frame=data.copy()\n",
    "new_frame['SQM_price']=0\n",
    "for city in unique_cities :\n",
    "    for i in range(0,len(data)):\n",
    "        if city == data.Location_City[i]:\n",
    "            SQM_price = data.Property_price_EGP[i]/data.Home_Space_SQM[i]\n",
    "            if SQM_price >= res.loc[res['Location_City'] == city].SQM_price.item():\n",
    "                new_frame.drop(i,axis=0,inplace=True)\n",
    "            else :\n",
    "                new_frame['SQM_price'][i]=SQM_price\n",
    "                \n",
    "        "
   ]
  },
  {
   "cell_type": "code",
   "execution_count": 37,
   "id": "30dc770a",
   "metadata": {
    "execution": {
     "iopub.execute_input": "2023-03-11T09:22:03.587428Z",
     "iopub.status.busy": "2023-03-11T09:22:03.586684Z",
     "iopub.status.idle": "2023-03-11T09:22:03.603498Z",
     "shell.execute_reply": "2023-03-11T09:22:03.602607Z"
    },
    "papermill": {
     "duration": 0.039038,
     "end_time": "2023-03-11T09:22:03.605929",
     "exception": false,
     "start_time": "2023-03-11T09:22:03.566891",
     "status": "completed"
    },
    "tags": []
   },
   "outputs": [
    {
     "data": {
      "text/html": [
       "<div>\n",
       "<style scoped>\n",
       "    .dataframe tbody tr th:only-of-type {\n",
       "        vertical-align: middle;\n",
       "    }\n",
       "\n",
       "    .dataframe tbody tr th {\n",
       "        vertical-align: top;\n",
       "    }\n",
       "\n",
       "    .dataframe thead th {\n",
       "        text-align: right;\n",
       "    }\n",
       "</style>\n",
       "<table border=\"1\" class=\"dataframe\">\n",
       "  <thead>\n",
       "    <tr style=\"text-align: right;\">\n",
       "      <th></th>\n",
       "      <th>Property_price_EGP</th>\n",
       "      <th>Location_governorate</th>\n",
       "      <th>Location_City</th>\n",
       "      <th>Bed_Rooms</th>\n",
       "      <th>Bath_Rooms</th>\n",
       "      <th>Home_Space_SQM</th>\n",
       "      <th>SQM_price</th>\n",
       "    </tr>\n",
       "  </thead>\n",
       "  <tbody>\n",
       "    <tr>\n",
       "      <th>0</th>\n",
       "      <td>2700000.0</td>\n",
       "      <td>Cairo</td>\n",
       "      <td>New Cairo - El Tagamoa</td>\n",
       "      <td>3</td>\n",
       "      <td>2</td>\n",
       "      <td>200</td>\n",
       "      <td>13500</td>\n",
       "    </tr>\n",
       "    <tr>\n",
       "      <th>4</th>\n",
       "      <td>2750000.0</td>\n",
       "      <td>Cairo</td>\n",
       "      <td>New Cairo - El Tagamoa</td>\n",
       "      <td>3</td>\n",
       "      <td>2</td>\n",
       "      <td>200</td>\n",
       "      <td>13750</td>\n",
       "    </tr>\n",
       "    <tr>\n",
       "      <th>7</th>\n",
       "      <td>2400000.0</td>\n",
       "      <td>Cairo</td>\n",
       "      <td>New Cairo - El Tagamoa</td>\n",
       "      <td>3</td>\n",
       "      <td>1</td>\n",
       "      <td>220</td>\n",
       "      <td>10909</td>\n",
       "    </tr>\n",
       "    <tr>\n",
       "      <th>8</th>\n",
       "      <td>2750000.0</td>\n",
       "      <td>Cairo</td>\n",
       "      <td>Madinaty</td>\n",
       "      <td>3</td>\n",
       "      <td>2</td>\n",
       "      <td>116</td>\n",
       "      <td>23706</td>\n",
       "    </tr>\n",
       "    <tr>\n",
       "      <th>13</th>\n",
       "      <td>2400000.0</td>\n",
       "      <td>Cairo</td>\n",
       "      <td>Maadi</td>\n",
       "      <td>3</td>\n",
       "      <td>3</td>\n",
       "      <td>205</td>\n",
       "      <td>11707</td>\n",
       "    </tr>\n",
       "    <tr>\n",
       "      <th>...</th>\n",
       "      <td>...</td>\n",
       "      <td>...</td>\n",
       "      <td>...</td>\n",
       "      <td>...</td>\n",
       "      <td>...</td>\n",
       "      <td>...</td>\n",
       "      <td>...</td>\n",
       "    </tr>\n",
       "    <tr>\n",
       "      <th>551</th>\n",
       "      <td>2700000.0</td>\n",
       "      <td>Cairo</td>\n",
       "      <td>Rehab City</td>\n",
       "      <td>3</td>\n",
       "      <td>3</td>\n",
       "      <td>119</td>\n",
       "      <td>22689</td>\n",
       "    </tr>\n",
       "    <tr>\n",
       "      <th>552</th>\n",
       "      <td>308000.0</td>\n",
       "      <td>Cairo</td>\n",
       "      <td>Badr City</td>\n",
       "      <td>3</td>\n",
       "      <td>1</td>\n",
       "      <td>115</td>\n",
       "      <td>2678</td>\n",
       "    </tr>\n",
       "    <tr>\n",
       "      <th>554</th>\n",
       "      <td>1600000.0</td>\n",
       "      <td>Cairo</td>\n",
       "      <td>New Cairo - El Tagamoa</td>\n",
       "      <td>3</td>\n",
       "      <td>3</td>\n",
       "      <td>160</td>\n",
       "      <td>10000</td>\n",
       "    </tr>\n",
       "    <tr>\n",
       "      <th>555</th>\n",
       "      <td>3250000.0</td>\n",
       "      <td>Cairo</td>\n",
       "      <td>Maadi</td>\n",
       "      <td>4</td>\n",
       "      <td>4</td>\n",
       "      <td>450</td>\n",
       "      <td>7222</td>\n",
       "    </tr>\n",
       "    <tr>\n",
       "      <th>556</th>\n",
       "      <td>4500000.0</td>\n",
       "      <td>Cairo</td>\n",
       "      <td>Rehab City</td>\n",
       "      <td>3</td>\n",
       "      <td>3</td>\n",
       "      <td>211</td>\n",
       "      <td>21327</td>\n",
       "    </tr>\n",
       "  </tbody>\n",
       "</table>\n",
       "<p>292 rows × 7 columns</p>\n",
       "</div>"
      ],
      "text/plain": [
       "     Property_price_EGP Location_governorate           Location_City  \\\n",
       "0             2700000.0                Cairo  New Cairo - El Tagamoa   \n",
       "4             2750000.0                Cairo  New Cairo - El Tagamoa   \n",
       "7             2400000.0                Cairo  New Cairo - El Tagamoa   \n",
       "8             2750000.0                Cairo                Madinaty   \n",
       "13            2400000.0                Cairo                   Maadi   \n",
       "..                  ...                  ...                     ...   \n",
       "551           2700000.0                Cairo              Rehab City   \n",
       "552            308000.0                Cairo               Badr City   \n",
       "554           1600000.0                Cairo  New Cairo - El Tagamoa   \n",
       "555           3250000.0                Cairo                   Maadi   \n",
       "556           4500000.0                Cairo              Rehab City   \n",
       "\n",
       "     Bed_Rooms  Bath_Rooms  Home_Space_SQM  SQM_price  \n",
       "0            3           2             200      13500  \n",
       "4            3           2             200      13750  \n",
       "7            3           1             220      10909  \n",
       "8            3           2             116      23706  \n",
       "13           3           3             205      11707  \n",
       "..         ...         ...             ...        ...  \n",
       "551          3           3             119      22689  \n",
       "552          3           1             115       2678  \n",
       "554          3           3             160      10000  \n",
       "555          4           4             450       7222  \n",
       "556          3           3             211      21327  \n",
       "\n",
       "[292 rows x 7 columns]"
      ]
     },
     "execution_count": 37,
     "metadata": {},
     "output_type": "execute_result"
    }
   ],
   "source": [
    "new_frame"
   ]
  },
  {
   "cell_type": "code",
   "execution_count": 38,
   "id": "06665339",
   "metadata": {
    "execution": {
     "iopub.execute_input": "2023-03-11T09:22:03.645721Z",
     "iopub.status.busy": "2023-03-11T09:22:03.644921Z",
     "iopub.status.idle": "2023-03-11T09:22:04.001217Z",
     "shell.execute_reply": "2023-03-11T09:22:03.999792Z"
    },
    "papermill": {
     "duration": 0.379417,
     "end_time": "2023-03-11T09:22:04.004070",
     "exception": false,
     "start_time": "2023-03-11T09:22:03.624653",
     "status": "completed"
    },
    "tags": []
   },
   "outputs": [
    {
     "data": {
      "text/plain": [
       "<AxesSubplot:>"
      ]
     },
     "execution_count": 38,
     "metadata": {},
     "output_type": "execute_result"
    },
    {
     "data": {
      "image/png": "[encoded data removed]",
      "text/plain": [
       "<Figure size 640x480 with 1 Axes>"
      ]
     },
     "metadata": {},
     "output_type": "display_data"
    }
   ],
   "source": [
    "(new_frame.Location_City.value_counts()/data.Location_City.value_counts()).sort_values(ascending=False).plot(kind='bar')"
   ]
  },
  {
   "cell_type": "markdown",
   "id": "6d3a1041",
   "metadata": {
    "papermill": {
     "duration": 0.019948,
     "end_time": "2023-03-11T09:22:04.044141",
     "exception": false,
     "start_time": "2023-03-11T09:22:04.024193",
     "status": "completed"
    },
    "tags": []
   },
   "source": [
    "### Research Question 7 (What is the chepeast  price per SQM house?)"
   ]
  },
  {
   "cell_type": "code",
   "execution_count": 39,
   "id": "54fb93d4",
   "metadata": {
    "execution": {
     "iopub.execute_input": "2023-03-11T09:22:04.089140Z",
     "iopub.status.busy": "2023-03-11T09:22:04.088717Z",
     "iopub.status.idle": "2023-03-11T09:22:04.101353Z",
     "shell.execute_reply": "2023-03-11T09:22:04.100451Z"
    },
    "papermill": {
     "duration": 0.03744,
     "end_time": "2023-03-11T09:22:04.103717",
     "exception": false,
     "start_time": "2023-03-11T09:22:04.066277",
     "status": "completed"
    },
    "tags": []
   },
   "outputs": [
    {
     "data": {
      "text/plain": [
       "Location_City\n",
       "Badr City                  2678\n",
       "Downtown Cairo             3461\n",
       "Heliopolis                 2750\n",
       "Katameya                   8478\n",
       "Maadi                      7222\n",
       "Madinaty                  14351\n",
       "Mokattam                   6538\n",
       "Nasr City                  4235\n",
       "New Cairo - El Tagamoa      372\n",
       "New Capital City           2994\n",
       "Obour City                 7692\n",
       "Rehab City                 8080\n",
       "Sheraton                   6666\n",
       "Shorouk City               6250\n",
       "Shubra                     2666\n",
       "Zahraa Al Maadi           11142\n",
       "Zamalek                   12333\n",
       "Name: SQM_price, dtype: int64"
      ]
     },
     "execution_count": 39,
     "metadata": {},
     "output_type": "execute_result"
    }
   ],
   "source": [
    "new_frame.groupby('Location_City').SQM_price.min()"
   ]
  },
  {
   "cell_type": "code",
   "execution_count": 40,
   "id": "49193050",
   "metadata": {
    "execution": {
     "iopub.execute_input": "2023-03-11T09:22:04.145186Z",
     "iopub.status.busy": "2023-03-11T09:22:04.144750Z",
     "iopub.status.idle": "2023-03-11T09:22:04.161271Z",
     "shell.execute_reply": "2023-03-11T09:22:04.160082Z"
    },
    "papermill": {
     "duration": 0.040275,
     "end_time": "2023-03-11T09:22:04.163830",
     "exception": false,
     "start_time": "2023-03-11T09:22:04.123555",
     "status": "completed"
    },
    "tags": []
   },
   "outputs": [
    {
     "data": {
      "text/html": [
       "<div>\n",
       "<style scoped>\n",
       "    .dataframe tbody tr th:only-of-type {\n",
       "        vertical-align: middle;\n",
       "    }\n",
       "\n",
       "    .dataframe tbody tr th {\n",
       "        vertical-align: top;\n",
       "    }\n",
       "\n",
       "    .dataframe thead th {\n",
       "        text-align: right;\n",
       "    }\n",
       "</style>\n",
       "<table border=\"1\" class=\"dataframe\">\n",
       "  <thead>\n",
       "    <tr style=\"text-align: right;\">\n",
       "      <th></th>\n",
       "      <th>Property_price_EGP</th>\n",
       "      <th>Location_governorate</th>\n",
       "      <th>Location_City</th>\n",
       "      <th>Bed_Rooms</th>\n",
       "      <th>Bath_Rooms</th>\n",
       "      <th>Home_Space_SQM</th>\n",
       "      <th>SQM_price</th>\n",
       "    </tr>\n",
       "  </thead>\n",
       "  <tbody>\n",
       "    <tr>\n",
       "      <th>246</th>\n",
       "      <td>156250.0</td>\n",
       "      <td>Cairo</td>\n",
       "      <td>New Cairo - El Tagamoa</td>\n",
       "      <td>4</td>\n",
       "      <td>3</td>\n",
       "      <td>420</td>\n",
       "      <td>372</td>\n",
       "    </tr>\n",
       "  </tbody>\n",
       "</table>\n",
       "</div>"
      ],
      "text/plain": [
       "     Property_price_EGP Location_governorate           Location_City  \\\n",
       "246            156250.0                Cairo  New Cairo - El Tagamoa   \n",
       "\n",
       "     Bed_Rooms  Bath_Rooms  Home_Space_SQM  SQM_price  \n",
       "246          4           3             420        372  "
      ]
     },
     "execution_count": 40,
     "metadata": {},
     "output_type": "execute_result"
    }
   ],
   "source": [
    "new_frame.query('SQM_price <= 372.023810')"
   ]
  },
  {
   "cell_type": "markdown",
   "id": "aa49370f",
   "metadata": {
    "papermill": {
     "duration": 0.019762,
     "end_time": "2023-03-11T09:22:04.203582",
     "exception": false,
     "start_time": "2023-03-11T09:22:04.183820",
     "status": "completed"
    },
    "tags": []
   },
   "source": [
    "<a id='conclusions'></a>\n",
    "## Conclusions\n",
    "\n",
    "**- Madinaty is the most frequent city in the data**\n",
    "\n",
    "**- the top five cities in terms of mean home prices are (Zamalek, Maadi, New Cairo-EL Tagamoa, Mokattam, Heliopolis)**\n",
    "\n",
    "**- the top five cities in terms of mean home spaces are (Maadi, Zahraa Al Maadi, Heliopolis, Obour City, Zamalek)**\n",
    "\n",
    "**- the more the space increases the price**\n",
    "\n",
    "**- the lowest price per SQM in the Marg, while the highest price per SQM in Madinaty**\n"
   ]
  }
 ],
 "metadata": {
  "kernelspec": {
   "display_name": "Python 3",
   "language": "python",
   "name": "python3"
  },
  "language_info": {
   "codemirror_mode": {
    "name": "ipython",
    "version": 3
   },
   "file_extension": ".py",
   "mimetype": "text/x-python",
   "name": "python",
   "nbconvert_exporter": "python",
   "pygments_lexer": "ipython3",
   "version": "3.7.12"
  },
  "papermill": {
   "default_parameters": {},
   "duration": 16.05553,
   "end_time": "2023-03-11T09:22:04.847613",
   "environment_variables": {},
   "exception": null,
   "input_path": "__notebook__.ipynb",
   "output_path": "__notebook__.ipynb",
   "parameters": {},
   "start_time": "2023-03-11T09:21:48.792083",
   "version": "2.4.0"
  }
 },
 "nbformat": 4,
 "nbformat_minor": 5
}
